{
 "cells": [
  {
   "cell_type": "code",
   "execution_count": null,
   "id": "409fcfa4",
   "metadata": {},
   "outputs": [
    {
     "name": "stderr",
     "output_type": "stream",
     "text": [
      "C:\\Users\\IContreras\\AppData\\Local\\Temp\\ipykernel_23548\\698976888.py:22: FutureWarning: Passing literal json to 'read_json' is deprecated and will be removed in a future version. To read from a literal string, wrap it in a 'StringIO' object.\n",
      "  df = pd.read_json(response.text)\n"
     ]
    },
    {
     "data": {
      "application/vnd.microsoft.datawrangler.viewer.v0+json": {
       "columns": [
        {
         "name": "index",
         "rawType": "int64",
         "type": "integer"
        },
        {
         "name": "nemotecnico",
         "rawType": "object",
         "type": "string"
        },
        {
         "name": "codisin",
         "rawType": "object",
         "type": "string"
        },
        {
         "name": "emisor",
         "rawType": "object",
         "type": "string"
        },
        {
         "name": "moneda",
         "rawType": "object",
         "type": "string"
        },
        {
         "name": "nombre_instrumento",
         "rawType": "object",
         "type": "string"
        },
        {
         "name": "nombre_periodo",
         "rawType": "object",
         "type": "string"
        },
        {
         "name": "tipo_amortizacion_capital",
         "rawType": "object",
         "type": "string"
        },
        {
         "name": "base_liquidacion",
         "rawType": "object",
         "type": "string"
        },
        {
         "name": "cantidad_titulos",
         "rawType": "int64",
         "type": "integer"
        },
        {
         "name": "monto_nominal",
         "rawType": "int64",
         "type": "integer"
        },
        {
         "name": "valor_nominal_unitario",
         "rawType": "int64",
         "type": "integer"
        },
        {
         "name": "cupon",
         "rawType": "int64",
         "type": "integer"
        },
        {
         "name": "interes_estructurado",
         "rawType": "float64",
         "type": "float"
        },
        {
         "name": "monto_cupon_cedido",
         "rawType": "int64",
         "type": "integer"
        },
        {
         "name": "suma_flujos",
         "rawType": "int64",
         "type": "integer"
        },
        {
         "name": "dias_corrido_spot",
         "rawType": "int64",
         "type": "integer"
        },
        {
         "name": "dias_corrido_fwd",
         "rawType": "int64",
         "type": "integer"
        },
        {
         "name": "cupon_corrido_spot",
         "rawType": "float64",
         "type": "float"
        },
        {
         "name": "cupon_corrido_fwd",
         "rawType": "float64",
         "type": "float"
        },
        {
         "name": "monto_transado_spot",
         "rawType": "float64",
         "type": "float"
        },
        {
         "name": "monto_transado_fwd",
         "rawType": "float64",
         "type": "float"
        },
        {
         "name": "monto_limpio_spot",
         "rawType": "float64",
         "type": "float"
        },
        {
         "name": "monto_limpio_fwd",
         "rawType": "float64",
         "type": "float"
        },
        {
         "name": "precio_limpio_spot",
         "rawType": "float64",
         "type": "float"
        },
        {
         "name": "precio_limpio_fwd",
         "rawType": "float64",
         "type": "float"
        },
        {
         "name": "precio_sucio_spot",
         "rawType": "float64",
         "type": "float"
        },
        {
         "name": "precio_sucio_fwd",
         "rawType": "float64",
         "type": "float"
        },
        {
         "name": "rendimiento_spot",
         "rawType": "float64",
         "type": "float"
        },
        {
         "name": "rendimiento_fwd",
         "rawType": "float64",
         "type": "float"
        },
        {
         "name": "carry_acumulado",
         "rawType": "float64",
         "type": "float"
        },
        {
         "name": "carry_neto",
         "rawType": "float64",
         "type": "float"
        },
        {
         "name": "dias_acum",
         "rawType": "int64",
         "type": "integer"
        }
       ],
       "conversionMethod": "pd.DataFrame",
       "ref": "5bb4d980-8636-4264-b2f8-90e9d5a66958",
       "rows": [
        [
         "0",
         "MH22034",
         "DO1005210922",
         "Ministerio de Hacienda",
         "DOP",
         "Bonos de Deuda Ley 64-18",
         "Semestral",
         "No Amortizable",
         "Actual/Actual",
         "3",
         "300000",
         "100000",
         "13",
         "4179.130000000005",
         "0",
         "0",
         "39",
         "69",
         "4155.74",
         "7352.46",
         "315624.05",
         "319803.18",
         "311468.32",
         "312450.72",
         "103.8227717184",
         "104.1502388085",
         "105.20801762",
         "106.6010584807",
         "12.3136423157",
         "12.2517584852",
         "3196.7213114754077",
         "-982.408688524597",
         "30"
        ]
       ],
       "shape": {
        "columns": 32,
        "rows": 1
       }
      },
      "text/html": [
       "<div>\n",
       "<style scoped>\n",
       "    .dataframe tbody tr th:only-of-type {\n",
       "        vertical-align: middle;\n",
       "    }\n",
       "\n",
       "    .dataframe tbody tr th {\n",
       "        vertical-align: top;\n",
       "    }\n",
       "\n",
       "    .dataframe thead th {\n",
       "        text-align: right;\n",
       "    }\n",
       "</style>\n",
       "<table border=\"1\" class=\"dataframe\">\n",
       "  <thead>\n",
       "    <tr style=\"text-align: right;\">\n",
       "      <th></th>\n",
       "      <th>nemotecnico</th>\n",
       "      <th>codisin</th>\n",
       "      <th>emisor</th>\n",
       "      <th>moneda</th>\n",
       "      <th>nombre_instrumento</th>\n",
       "      <th>nombre_periodo</th>\n",
       "      <th>tipo_amortizacion_capital</th>\n",
       "      <th>base_liquidacion</th>\n",
       "      <th>cantidad_titulos</th>\n",
       "      <th>monto_nominal</th>\n",
       "      <th>...</th>\n",
       "      <th>monto_limpio_fwd</th>\n",
       "      <th>precio_limpio_spot</th>\n",
       "      <th>precio_limpio_fwd</th>\n",
       "      <th>precio_sucio_spot</th>\n",
       "      <th>precio_sucio_fwd</th>\n",
       "      <th>rendimiento_spot</th>\n",
       "      <th>rendimiento_fwd</th>\n",
       "      <th>carry_acumulado</th>\n",
       "      <th>carry_neto</th>\n",
       "      <th>dias_acum</th>\n",
       "    </tr>\n",
       "  </thead>\n",
       "  <tbody>\n",
       "    <tr>\n",
       "      <th>0</th>\n",
       "      <td>MH22034</td>\n",
       "      <td>DO1005210922</td>\n",
       "      <td>Ministerio de Hacienda</td>\n",
       "      <td>DOP</td>\n",
       "      <td>Bonos de Deuda Ley 64-18</td>\n",
       "      <td>Semestral</td>\n",
       "      <td>No Amortizable</td>\n",
       "      <td>Actual/Actual</td>\n",
       "      <td>3</td>\n",
       "      <td>300000</td>\n",
       "      <td>...</td>\n",
       "      <td>312450.72</td>\n",
       "      <td>103.822772</td>\n",
       "      <td>104.150239</td>\n",
       "      <td>105.208018</td>\n",
       "      <td>106.601058</td>\n",
       "      <td>12.313642</td>\n",
       "      <td>12.251758</td>\n",
       "      <td>3196.721311</td>\n",
       "      <td>-982.408689</td>\n",
       "      <td>30</td>\n",
       "    </tr>\n",
       "  </tbody>\n",
       "</table>\n",
       "<p>1 rows × 32 columns</p>\n",
       "</div>"
      ],
      "text/plain": [
       "  nemotecnico       codisin                  emisor moneda  \\\n",
       "0     MH22034  DO1005210922  Ministerio de Hacienda    DOP   \n",
       "\n",
       "         nombre_instrumento nombre_periodo tipo_amortizacion_capital  \\\n",
       "0  Bonos de Deuda Ley 64-18      Semestral            No Amortizable   \n",
       "\n",
       "  base_liquidacion  cantidad_titulos  monto_nominal  ...  monto_limpio_fwd  \\\n",
       "0    Actual/Actual                 3         300000  ...         312450.72   \n",
       "\n",
       "   precio_limpio_spot  precio_limpio_fwd  precio_sucio_spot  precio_sucio_fwd  \\\n",
       "0          103.822772         104.150239         105.208018        106.601058   \n",
       "\n",
       "   rendimiento_spot  rendimiento_fwd  carry_acumulado  carry_neto  dias_acum  \n",
       "0         12.313642        12.251758      3196.721311 -982.408689         30  \n",
       "\n",
       "[1 rows x 32 columns]"
      ]
     },
     "execution_count": 37,
     "metadata": {},
     "output_type": "execute_result"
    }
   ],
   "source": [
    "import requests\n",
    "import pandas as pd\n",
    "url = 'https://calculadora.testinnex.exchange/apicbbvrd_estructurado'\n",
    "body = {\n",
    "\t\"auth\":{\n",
    "\t\t\t\"usuario\":\"quantechbvrd\",\n",
    "\t\t\t\"password\":\"6UlzSlCksTXWbEaYHeD\"\n",
    "},\n",
    "          \"calculo\":[{\n",
    "\t\t\t\"titulo_id\": \"MH22034\",    \n",
    "\t\t\t\"tipo_insumo\": \"t\",\n",
    "\t\t\t\"tipo_monto\": \"n\",\n",
    "\t\t\t\"insumo\": 315624.05286,\n",
    "\t\t\t\"monto\": 315206.68158,\n",
    "\t\t\t\"fecha_liquidacion_spot\": \"2024-07-19\",\n",
    "\t\t\t\"tasa\" : 15.889,\n",
    "\t\t\t\"dias\":30,\n",
    "\t\t\t\"cesion_cupon\" : True,\n",
    "\t\t\t\"base_dias\": 360\n",
    "\t\t\t\t}]}\n",
    "\n",
    "implement this formula to calculate tasa: ((315624.05286-315206.68158)/315206.68158)*(360/30)\n",
    "response = requests.post(url, json=body)\n",
    "df = pd.read_json(response.text)\n",
    "df"
   ]
  },
  {
   "cell_type": "code",
   "execution_count": 23,
   "id": "3cf7d888",
   "metadata": {},
   "outputs": [
    {
     "data": {
      "text/plain": [
       "0.015889432720445365"
      ]
     },
     "execution_count": 23,
     "metadata": {},
     "output_type": "execute_result"
    }
   ],
   "source": [
    "((315624.05286-315206.68158)/315206.68158)*(360/30)"
   ]
  },
  {
   "cell_type": "code",
   "execution_count": 16,
   "id": "64a4449c",
   "metadata": {},
   "outputs": [
    {
     "data": {
      "text/plain": [
       "0.0013241193933704043"
      ]
     },
     "execution_count": 16,
     "metadata": {},
     "output_type": "execute_result"
    }
   ],
   "source": [
    "(315624.05286/315206.68158)-1"
   ]
  }
 ],
 "metadata": {
  "kernelspec": {
   "display_name": ".venv",
   "language": "python",
   "name": "python3"
  },
  "language_info": {
   "codemirror_mode": {
    "name": "ipython",
    "version": 3
   },
   "file_extension": ".py",
   "mimetype": "text/x-python",
   "name": "python",
   "nbconvert_exporter": "python",
   "pygments_lexer": "ipython3",
   "version": "3.13.0"
  }
 },
 "nbformat": 4,
 "nbformat_minor": 5
}
